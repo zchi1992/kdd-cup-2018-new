{
 "cells": [
  {
   "cell_type": "code",
   "execution_count": 2,
   "metadata": {},
   "outputs": [],
   "source": [
    "from functools import reduce\n",
    "import os\n",
    "import pandas as pd"
   ]
  },
  {
   "cell_type": "code",
   "execution_count": 34,
   "metadata": {},
   "outputs": [],
   "source": [
    "cities = ['bj', 'ld']\n",
    "particles = [\"PM2.5\", \"PM10\", \"NO2\", \"CO\", \"SO2\", \"O3\"]\n",
    "meteros = [\"temperature\", \"pressure\", \"humidity\", \"wind_direction\", \"wind_speed\"]"
   ]
  },
  {
   "cell_type": "code",
   "execution_count": 35,
   "metadata": {},
   "outputs": [
    {
     "ename": "AssertionError",
     "evalue": "There\"s still missing data in bj_aq dataset",
     "output_type": "error",
     "traceback": [
      "\u001b[1;31m---------------------------------------------------------------------------\u001b[0m",
      "\u001b[1;31mAssertionError\u001b[0m                            Traceback (most recent call last)",
      "\u001b[1;32m<ipython-input-35-c8d64e322ba0>\u001b[0m in \u001b[0;36m<module>\u001b[1;34m()\u001b[0m\n\u001b[0;32m     12\u001b[0m             \u001b[1;32melse\u001b[0m\u001b[1;33m:\u001b[0m\u001b[1;33m\u001b[0m\u001b[0m\n\u001b[0;32m     13\u001b[0m                 \u001b[0mcity_meter_all\u001b[0m \u001b[1;33m=\u001b[0m \u001b[0mpd\u001b[0m\u001b[1;33m.\u001b[0m\u001b[0mconcat\u001b[0m\u001b[1;33m(\u001b[0m\u001b[1;33m[\u001b[0m\u001b[0mcity_meter_all\u001b[0m\u001b[1;33m,\u001b[0m \u001b[0mtmp\u001b[0m\u001b[1;33m]\u001b[0m\u001b[1;33m,\u001b[0m \u001b[0mignore_index\u001b[0m\u001b[1;33m=\u001b[0m\u001b[1;32mTrue\u001b[0m\u001b[1;33m)\u001b[0m\u001b[1;33m\u001b[0m\u001b[0m\n\u001b[1;32m---> 14\u001b[1;33m         \u001b[1;32massert\u001b[0m \u001b[0many\u001b[0m\u001b[1;33m(\u001b[0m\u001b[0mcity_aq_all\u001b[0m\u001b[1;33m.\u001b[0m\u001b[0misnull\u001b[0m\u001b[1;33m(\u001b[0m\u001b[1;33m)\u001b[0m\u001b[1;33m.\u001b[0m\u001b[0many\u001b[0m\u001b[1;33m(\u001b[0m\u001b[0maxis\u001b[0m\u001b[1;33m=\u001b[0m\u001b[1;36m1\u001b[0m\u001b[1;33m)\u001b[0m\u001b[1;33m)\u001b[0m \u001b[1;32mis\u001b[0m \u001b[1;32mFalse\u001b[0m\u001b[1;33m,\u001b[0m \u001b[1;34m'There\"s still missing data in {}_aq dataset'\u001b[0m\u001b[1;33m.\u001b[0m\u001b[0mformat\u001b[0m\u001b[1;33m(\u001b[0m\u001b[0mcity\u001b[0m\u001b[1;33m)\u001b[0m\u001b[1;33m\u001b[0m\u001b[0m\n\u001b[0m\u001b[0;32m     15\u001b[0m         \u001b[1;32massert\u001b[0m \u001b[0many\u001b[0m\u001b[1;33m(\u001b[0m\u001b[0mcity_meter_all\u001b[0m\u001b[1;33m.\u001b[0m\u001b[0misnull\u001b[0m\u001b[1;33m(\u001b[0m\u001b[1;33m)\u001b[0m\u001b[1;33m.\u001b[0m\u001b[0many\u001b[0m\u001b[1;33m(\u001b[0m\u001b[0maxis\u001b[0m\u001b[1;33m=\u001b[0m\u001b[1;36m1\u001b[0m\u001b[1;33m)\u001b[0m\u001b[1;33m)\u001b[0m \u001b[1;32mis\u001b[0m \u001b[1;32mFalse\u001b[0m\u001b[1;33m,\u001b[0m \u001b[1;34m'There\"s still missing data in {}_meter dataset'\u001b[0m\u001b[1;33m.\u001b[0m\u001b[0mformat\u001b[0m\u001b[1;33m(\u001b[0m\u001b[0mcity\u001b[0m\u001b[1;33m)\u001b[0m\u001b[1;33m\u001b[0m\u001b[0m\n",
      "\u001b[1;31mAssertionError\u001b[0m: There\"s still missing data in bj_aq dataset"
     ]
    }
   ],
   "source": [
    "data_aq_all = {}\n",
    "data_metero_all = {}\n",
    "for city in ['bj', 'ld']:\n",
    "    city_aq_all = pd.DataFrame()\n",
    "    city_meter_all = pd.DataFrame()\n",
    "    if city == 'bj':\n",
    "        files = os.listdir(r'./data/Beijing/post')\n",
    "        for file in files:\n",
    "            tmp = pd.read_csv(os.path.join(r'./data/Beijing/post', file), index_col=0)\n",
    "            if any([p in file for p in particles]):\n",
    "                city_aq_all = pd.concat([city_aq_all, tmp], ignore_index=True)\n",
    "            else:\n",
    "                city_meter_all = pd.concat([city_meter_all, tmp], ignore_index=True)\n",
    "        assert any(city_aq_all.isnull().any(axis=1)) is False, 'There\"s still missing data in {}_aq dataset'.format(city)\n",
    "        assert any(city_meter_all.isnull().any(axis=1)) is False, 'There\"s still missing data in {}_meter dataset'.format(city)"
   ]
  },
  {
   "cell_type": "code",
   "execution_count": 30,
   "metadata": {},
   "outputs": [],
   "source": [
    "test = pd.read_csv(r'./data/Beijing/post/bj_temperature_filled.csv', index_col=0)"
   ]
  },
  {
   "cell_type": "code",
   "execution_count": 31,
   "metadata": {},
   "outputs": [
    {
     "data": {
      "text/plain": [
       "(12051, 35)"
      ]
     },
     "execution_count": 31,
     "metadata": {},
     "output_type": "execute_result"
    }
   ],
   "source": [
    "test.shape"
   ]
  },
  {
   "cell_type": "code",
   "execution_count": 29,
   "metadata": {},
   "outputs": [
    {
     "data": {
      "text/plain": [
       "False"
      ]
     },
     "execution_count": 29,
     "metadata": {},
     "output_type": "execute_result"
    }
   ],
   "source": [
    "any(test.isnull().any(axis=1))"
   ]
  },
  {
   "cell_type": "code",
   "execution_count": 24,
   "metadata": {},
   "outputs": [
    {
     "data": {
      "text/html": [
       "<div>\n",
       "<style scoped>\n",
       "    .dataframe tbody tr th:only-of-type {\n",
       "        vertical-align: middle;\n",
       "    }\n",
       "\n",
       "    .dataframe tbody tr th {\n",
       "        vertical-align: top;\n",
       "    }\n",
       "\n",
       "    .dataframe thead th {\n",
       "        text-align: right;\n",
       "    }\n",
       "</style>\n",
       "<table border=\"1\" class=\"dataframe\">\n",
       "  <thead>\n",
       "    <tr style=\"text-align: right;\">\n",
       "      <th></th>\n",
       "      <th>0</th>\n",
       "      <th>1</th>\n",
       "      <th>2</th>\n",
       "      <th>3</th>\n",
       "      <th>4</th>\n",
       "      <th>5</th>\n",
       "      <th>6</th>\n",
       "      <th>7</th>\n",
       "      <th>8</th>\n",
       "      <th>9</th>\n",
       "      <th>...</th>\n",
       "      <th>375</th>\n",
       "      <th>376</th>\n",
       "      <th>377</th>\n",
       "      <th>378</th>\n",
       "      <th>379</th>\n",
       "      <th>380</th>\n",
       "      <th>381</th>\n",
       "      <th>382</th>\n",
       "      <th>383</th>\n",
       "      <th>384</th>\n",
       "    </tr>\n",
       "  </thead>\n",
       "  <tbody>\n",
       "    <tr>\n",
       "      <th>2017-01-01 00:00:00</th>\n",
       "      <td>NaN</td>\n",
       "      <td>NaN</td>\n",
       "      <td>NaN</td>\n",
       "      <td>NaN</td>\n",
       "      <td>NaN</td>\n",
       "      <td>NaN</td>\n",
       "      <td>NaN</td>\n",
       "      <td>NaN</td>\n",
       "      <td>NaN</td>\n",
       "      <td>NaN</td>\n",
       "      <td>...</td>\n",
       "      <td>1.04</td>\n",
       "      <td>2.48</td>\n",
       "      <td>0.86</td>\n",
       "      <td>2.88</td>\n",
       "      <td>1.75</td>\n",
       "      <td>4.38</td>\n",
       "      <td>4.38</td>\n",
       "      <td>3.54</td>\n",
       "      <td>4.38</td>\n",
       "      <td>4.77</td>\n",
       "    </tr>\n",
       "    <tr>\n",
       "      <th>2017-01-01 01:00:00</th>\n",
       "      <td>NaN</td>\n",
       "      <td>NaN</td>\n",
       "      <td>NaN</td>\n",
       "      <td>NaN</td>\n",
       "      <td>NaN</td>\n",
       "      <td>NaN</td>\n",
       "      <td>NaN</td>\n",
       "      <td>NaN</td>\n",
       "      <td>NaN</td>\n",
       "      <td>NaN</td>\n",
       "      <td>...</td>\n",
       "      <td>0.84</td>\n",
       "      <td>3.03</td>\n",
       "      <td>1.62</td>\n",
       "      <td>2.71</td>\n",
       "      <td>1.90</td>\n",
       "      <td>3.90</td>\n",
       "      <td>3.90</td>\n",
       "      <td>3.32</td>\n",
       "      <td>3.90</td>\n",
       "      <td>4.13</td>\n",
       "    </tr>\n",
       "    <tr>\n",
       "      <th>2017-01-01 02:00:00</th>\n",
       "      <td>NaN</td>\n",
       "      <td>NaN</td>\n",
       "      <td>NaN</td>\n",
       "      <td>NaN</td>\n",
       "      <td>NaN</td>\n",
       "      <td>NaN</td>\n",
       "      <td>NaN</td>\n",
       "      <td>NaN</td>\n",
       "      <td>NaN</td>\n",
       "      <td>NaN</td>\n",
       "      <td>...</td>\n",
       "      <td>1.27</td>\n",
       "      <td>3.65</td>\n",
       "      <td>2.51</td>\n",
       "      <td>2.59</td>\n",
       "      <td>2.05</td>\n",
       "      <td>3.49</td>\n",
       "      <td>3.49</td>\n",
       "      <td>3.19</td>\n",
       "      <td>3.49</td>\n",
       "      <td>3.59</td>\n",
       "    </tr>\n",
       "    <tr>\n",
       "      <th>2017-01-01 03:00:00</th>\n",
       "      <td>NaN</td>\n",
       "      <td>NaN</td>\n",
       "      <td>NaN</td>\n",
       "      <td>NaN</td>\n",
       "      <td>NaN</td>\n",
       "      <td>NaN</td>\n",
       "      <td>NaN</td>\n",
       "      <td>NaN</td>\n",
       "      <td>NaN</td>\n",
       "      <td>NaN</td>\n",
       "      <td>...</td>\n",
       "      <td>1.95</td>\n",
       "      <td>4.29</td>\n",
       "      <td>3.43</td>\n",
       "      <td>2.51</td>\n",
       "      <td>2.21</td>\n",
       "      <td>3.17</td>\n",
       "      <td>3.17</td>\n",
       "      <td>3.16</td>\n",
       "      <td>3.17</td>\n",
       "      <td>3.18</td>\n",
       "    </tr>\n",
       "    <tr>\n",
       "      <th>2017-01-01 04:00:00</th>\n",
       "      <td>NaN</td>\n",
       "      <td>NaN</td>\n",
       "      <td>NaN</td>\n",
       "      <td>NaN</td>\n",
       "      <td>NaN</td>\n",
       "      <td>NaN</td>\n",
       "      <td>NaN</td>\n",
       "      <td>NaN</td>\n",
       "      <td>NaN</td>\n",
       "      <td>NaN</td>\n",
       "      <td>...</td>\n",
       "      <td>0.70</td>\n",
       "      <td>4.21</td>\n",
       "      <td>2.99</td>\n",
       "      <td>2.11</td>\n",
       "      <td>2.48</td>\n",
       "      <td>3.79</td>\n",
       "      <td>3.79</td>\n",
       "      <td>4.01</td>\n",
       "      <td>3.79</td>\n",
       "      <td>3.70</td>\n",
       "    </tr>\n",
       "  </tbody>\n",
       "</table>\n",
       "<p>5 rows × 385 columns</p>\n",
       "</div>"
      ],
      "text/plain": [
       "                     0    1    2    3    4    5    6    7    8    9    ...   \\\n",
       "2017-01-01 00:00:00  NaN  NaN  NaN  NaN  NaN  NaN  NaN  NaN  NaN  NaN  ...    \n",
       "2017-01-01 01:00:00  NaN  NaN  NaN  NaN  NaN  NaN  NaN  NaN  NaN  NaN  ...    \n",
       "2017-01-01 02:00:00  NaN  NaN  NaN  NaN  NaN  NaN  NaN  NaN  NaN  NaN  ...    \n",
       "2017-01-01 03:00:00  NaN  NaN  NaN  NaN  NaN  NaN  NaN  NaN  NaN  NaN  ...    \n",
       "2017-01-01 04:00:00  NaN  NaN  NaN  NaN  NaN  NaN  NaN  NaN  NaN  NaN  ...    \n",
       "\n",
       "                      375   376   377   378   379   380   381   382   383  \\\n",
       "2017-01-01 00:00:00  1.04  2.48  0.86  2.88  1.75  4.38  4.38  3.54  4.38   \n",
       "2017-01-01 01:00:00  0.84  3.03  1.62  2.71  1.90  3.90  3.90  3.32  3.90   \n",
       "2017-01-01 02:00:00  1.27  3.65  2.51  2.59  2.05  3.49  3.49  3.19  3.49   \n",
       "2017-01-01 03:00:00  1.95  4.29  3.43  2.51  2.21  3.17  3.17  3.16  3.17   \n",
       "2017-01-01 04:00:00  0.70  4.21  2.99  2.11  2.48  3.79  3.79  4.01  3.79   \n",
       "\n",
       "                      384  \n",
       "2017-01-01 00:00:00  4.77  \n",
       "2017-01-01 01:00:00  4.13  \n",
       "2017-01-01 02:00:00  3.59  \n",
       "2017-01-01 03:00:00  3.18  \n",
       "2017-01-01 04:00:00  3.70  \n",
       "\n",
       "[5 rows x 385 columns]"
      ]
     },
     "execution_count": 24,
     "metadata": {},
     "output_type": "execute_result"
    }
   ],
   "source": [
    "bj_all.head()"
   ]
  },
  {
   "cell_type": "code",
   "execution_count": 19,
   "metadata": {},
   "outputs": [
    {
     "data": {
      "text/plain": [
       "2017-01-01 00:00:00     True\n",
       "2017-01-01 01:00:00     True\n",
       "2017-01-01 02:00:00     True\n",
       "2017-01-01 03:00:00     True\n",
       "2017-01-01 04:00:00     True\n",
       "2017-01-01 05:00:00     True\n",
       "2017-01-01 06:00:00     True\n",
       "2017-01-01 07:00:00     True\n",
       "2017-01-01 08:00:00     True\n",
       "2017-01-01 09:00:00     True\n",
       "2017-01-01 10:00:00     True\n",
       "2017-01-01 11:00:00     True\n",
       "2017-01-01 12:00:00     True\n",
       "2017-01-01 13:00:00     True\n",
       "2017-01-01 14:00:00    False\n",
       "2017-01-01 15:00:00    False\n",
       "2017-01-01 16:00:00    False\n",
       "2017-01-01 17:00:00    False\n",
       "2017-01-01 18:00:00    False\n",
       "2017-01-01 19:00:00    False\n",
       "2017-01-01 20:00:00    False\n",
       "2017-01-01 21:00:00    False\n",
       "2017-01-01 22:00:00    False\n",
       "2017-01-01 23:00:00    False\n",
       "2017-01-02 00:00:00    False\n",
       "2017-01-02 01:00:00    False\n",
       "2017-01-02 02:00:00    False\n",
       "2017-01-02 03:00:00    False\n",
       "2017-01-02 04:00:00    False\n",
       "2017-01-02 05:00:00    False\n",
       "                       ...  \n",
       "2018-05-16 21:00:00    False\n",
       "2018-05-16 22:00:00    False\n",
       "2018-05-16 23:00:00    False\n",
       "2018-05-17 00:00:00    False\n",
       "2018-05-17 01:00:00    False\n",
       "2018-05-17 02:00:00    False\n",
       "2018-05-17 03:00:00    False\n",
       "2018-05-17 04:00:00    False\n",
       "2018-05-17 05:00:00    False\n",
       "2018-05-17 06:00:00    False\n",
       "2018-05-17 07:00:00    False\n",
       "2018-05-17 08:00:00    False\n",
       "2018-05-17 09:00:00    False\n",
       "2018-05-17 10:00:00    False\n",
       "2018-05-17 11:00:00    False\n",
       "2018-05-17 12:00:00    False\n",
       "2018-05-17 13:00:00    False\n",
       "2018-05-17 14:00:00    False\n",
       "2018-05-17 15:00:00    False\n",
       "2018-05-17 16:00:00    False\n",
       "2018-05-17 17:00:00    False\n",
       "2018-05-17 18:00:00    False\n",
       "2018-05-17 19:00:00    False\n",
       "2018-05-17 20:00:00    False\n",
       "2018-05-17 21:00:00    False\n",
       "2018-05-17 22:00:00    False\n",
       "2018-05-17 23:00:00    False\n",
       "2018-05-18 00:00:00    False\n",
       "2018-05-18 01:00:00    False\n",
       "2018-05-18 02:00:00     True\n",
       "Length: 12051, dtype: bool"
      ]
     },
     "execution_count": 19,
     "metadata": {},
     "output_type": "execute_result"
    }
   ],
   "source": [
    "bj_all.isnull().any(axis=1)"
   ]
  }
 ],
 "metadata": {
  "kernelspec": {
   "display_name": "Python 3",
   "language": "python",
   "name": "python3"
  },
  "language_info": {
   "codemirror_mode": {
    "name": "ipython",
    "version": 3
   },
   "file_extension": ".py",
   "mimetype": "text/x-python",
   "name": "python",
   "nbconvert_exporter": "python",
   "pygments_lexer": "ipython3",
   "version": "3.6.2"
  }
 },
 "nbformat": 4,
 "nbformat_minor": 2
}
